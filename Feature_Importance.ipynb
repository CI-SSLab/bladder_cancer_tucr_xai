{
  "nbformat": 4,
  "nbformat_minor": 0,
  "metadata": {
    "colab": {
      "name": "Feature Importance.ipynb",
      "provenance": [],
      "collapsed_sections": [],
      "include_colab_link": true
    },
    "kernelspec": {
      "name": "python3",
      "display_name": "Python 3"
    },
    "language_info": {
      "name": "python"
    }
  },
  "cells": [
    {
      "cell_type": "markdown",
      "metadata": {
        "id": "view-in-github",
        "colab_type": "text"
      },
      "source": [
        "<a href=\"https://colab.research.google.com/github/CI-SSLab/bladder_cancer_tucr_xai/blob/main/Feature_Importance.ipynb\" target=\"_parent\"><img src=\"https://colab.research.google.com/assets/colab-badge.svg\" alt=\"Open In Colab\"/></a>"
      ]
    },
    {
      "cell_type": "code",
      "execution_count": null,
      "metadata": {
        "colab": {
          "base_uri": "https://localhost:8080/"
        },
        "id": "xp62mmTyuczb",
        "outputId": "7447d79c-4482-460f-8ec3-1a6a8bb3604a"
      },
      "outputs": [
        {
          "output_type": "stream",
          "name": "stdout",
          "text": [
            "1.0.2\n"
          ]
        }
      ],
      "source": [
        "# Check scikit-learn version\n",
        "import sklearn\n",
        "print(sklearn.__version__)"
      ]
    },
    {
      "cell_type": "code",
      "source": [
        "import pandas as pd\n",
        "import numpy as np\n",
        "from numpy import genfromtxt\n",
        "\n",
        "X = np.array(pd.read_csv(\"X_0001_2.csv\", header=None))\n",
        "\n",
        "y = np.array(pd.read_csv(\"Y.csv\", header=None)).T\n",
        "\n",
        "labels = np.array(pd.read_csv(\"Labels_0001_2.csv\", header=None))\n",
        "\n",
        "print(X.shape)"
      ],
      "metadata": {
        "id": "pFL-hCFz4CIX",
        "colab": {
          "base_uri": "https://localhost:8080/"
        },
        "outputId": "3a4fb4b2-e1fc-4f14-df87-c6e9bee9620f"
      },
      "execution_count": null,
      "outputs": [
        {
          "output_type": "stream",
          "name": "stdout",
          "text": [
            "(41, 70)\n"
          ]
        }
      ]
    },
    {
      "cell_type": "code",
      "source": [
        "# Lasso \n",
        "from sklearn import linear_model\n",
        "from sklearn.pipeline import make_pipeline\n",
        "from sklearn.preprocessing import StandardScaler\n",
        "from sklearn.linear_model import Lasso\n",
        "import matplotlib.pyplot as plt\n",
        "from sklearn.model_selection import cross_validate\n",
        "from sklearn.model_selection import RepeatedKFold\n",
        "import seaborn as sns\n",
        "\n",
        "model = make_pipeline(StandardScaler(), Lasso(alpha=.015))\n",
        "\n",
        "model.fit(X, y[0,:])\n",
        "\n",
        "coefs = pd.DataFrame(\n",
        "   model[1].coef_,\n",
        "   columns=['Coefficients'], index=labels\n",
        ")\n",
        "\n",
        "coefs.plot(kind='barh', figsize=(9, 7))\n",
        "plt.title('Lasso model, strong regularization')\n",
        "plt.axvline(x=0, color='.5')\n",
        "plt.subplots_adjust(left=.3)\n",
        "\n",
        "feature_importance = abs(model[1].coef_)\n",
        "\n",
        "feature_importance = 100.0 * (feature_importance / feature_importance.max())\n",
        "sorted_idx = np.argsort(feature_importance)\n",
        "\n",
        "ranked = sorted_idx[::-1][:70]\n",
        "\n",
        "fi = feature_importance[ranked]\n",
        "\n",
        "print(labels[ranked])"
      ],
      "metadata": {
        "id": "f6yqAp8K6S6M"
      },
      "execution_count": null,
      "outputs": []
    },
    {
      "cell_type": "code",
      "source": [
        "# logistic regression for feature importance (classification)\n",
        "from sklearn.datasets import make_classification\n",
        "from sklearn.linear_model import LogisticRegression\n",
        "from matplotlib import pyplot\n",
        "\n",
        "# Define the model\n",
        "model = LogisticRegression()\n",
        "\n",
        "# Fit the model\n",
        "model.fit(X, y[0,:])\n",
        "\n",
        "# Get importance\n",
        "importance = model.coef_[0]\n",
        "\n",
        "# Summarize feature importance\n",
        "feature_importance = abs(model.coef_[0])\n",
        "feature_importance = 100.0 * (feature_importance / feature_importance.max())\n",
        "sorted_idx = np.argsort(feature_importance)\n",
        "pos = np.arange(sorted_idx.shape[0]) + .5\n",
        "\n",
        "ranked = sorted_idx[::-1][:70]\n",
        "\n",
        "fi = feature_importance[ranked]\n",
        "\n",
        "pyplot.bar([x for x in range(len(fi))], fi)\n",
        "pyplot.show()\n",
        "\n",
        "print(labels[ranked])"
      ],
      "metadata": {
        "colab": {
          "base_uri": "https://localhost:8080/",
          "height": 1000
        },
        "id": "_fir36z5vPNE",
        "outputId": "ac9d5b4a-dd4e-49fa-d4a2-b5f3841c813c"
      },
      "execution_count": null,
      "outputs": [
        {
          "output_type": "display_data",
          "data": {
            "image/png": "[encoded data removed]",
            "text/plain": [
              "<Figure size 432x288 with 1 Axes>"
            ]
          },
          "metadata": {
            "needs_background": "light"
          }
        },
        {
          "output_type": "stream",
          "name": "stdout",
          "text": [
            "[['uc.8+']\n",
            " ['uc.283+A']\n",
            " ['uc.160+']\n",
            " ['uc.145+A']\n",
            " ['uc.339+']\n",
            " ['uc.369+']\n",
            " ['uc.325+']\n",
            " ['uc.466+A']\n",
            " ['uc.3+']\n",
            " ['uc.263+A']\n",
            " ['uc.346+']\n",
            " ['uc.229+A']\n",
            " ['uc.282+A']\n",
            " ['uc.213+A']\n",
            " ['uc.142+A']\n",
            " ['uc.450+']\n",
            " ['uc.230+']\n",
            " ['uc.287+A']\n",
            " ['uc.363+A']\n",
            " ['uc.288+A']\n",
            " ['uc.20+']\n",
            " ['uc.217+A']\n",
            " ['uc.238+']\n",
            " ['uc.473+A']\n",
            " ['uc.195+']\n",
            " ['uc.362+A']\n",
            " ['uc.462+A']\n",
            " ['uc.469+A']\n",
            " ['uc.31+']\n",
            " ['uc.378+A']\n",
            " ['uc.248+A']\n",
            " ['uc.477+A']\n",
            " ['uc.33+']\n",
            " ['uc.153+A']\n",
            " ['uc.342+']\n",
            " ['uc.325+A']\n",
            " ['uc.448+A']\n",
            " ['uc.392+A']\n",
            " ['uc.354+A']\n",
            " ['uc.374+A']\n",
            " ['uc.163+']\n",
            " ['uc.48+A']\n",
            " ['uc.177+A']\n",
            " ['uc.34+A']\n",
            " ['uc.298+']\n",
            " ['uc.106+A']\n",
            " ['uc.200+']\n",
            " ['uc.96+']\n",
            " ['uc.190+A']\n",
            " ['uc.372+']\n",
            " ['uc.206+A']\n",
            " ['uc.43+']\n",
            " ['uc.468+']\n",
            " ['uc.138+']\n",
            " ['uc.44+A']\n",
            " ['uc.412+A']\n",
            " ['uc.275+A']\n",
            " ['uc.456+A']\n",
            " ['uc.404+']\n",
            " ['uc.189+']\n",
            " ['uc.268+']\n",
            " ['uc.28+']\n",
            " ['uc.4+']\n",
            " ['uc.457+']\n",
            " ['uc.388+A']\n",
            " ['uc.21+A']\n",
            " ['uc.234+']\n",
            " ['uc.445+A']\n",
            " ['uc.89+']\n",
            " ['uc.16+']]\n"
          ]
        }
      ]
    },
    {
      "cell_type": "code",
      "source": [
        "# Random Forest for feature importance on a classification problem\n",
        "from sklearn.datasets import make_classification\n",
        "from sklearn.ensemble import RandomForestClassifier\n",
        "from matplotlib import pyplot\n",
        "\n",
        "# Define the model\n",
        "model = RandomForestClassifier()\n",
        "\n",
        "# Fit the model\n",
        "model.fit(X, y[0,:].T)\n",
        "\n",
        "# Get importance\n",
        "importance = model.feature_importances_\n",
        "\n",
        "# Summarize feature importance\n",
        "feature_importance = abs(model.feature_importances_)\n",
        "feature_importance = 100.0 * (feature_importance / feature_importance.max())\n",
        "sorted_idx = np.argsort(feature_importance)\n",
        "\n",
        "ranked = sorted_idx[::-1][:70]\n",
        "\n",
        "fi = feature_importance[ranked]\n",
        "\n",
        "pyplot.bar([x for x in range(len(fi))], fi)\n",
        "pyplot.show()\n",
        "\n",
        "print(labels[ranked])"
      ],
      "metadata": {
        "id": "ZF4FVBNqvkPD",
        "colab": {
          "base_uri": "https://localhost:8080/",
          "height": 1000
        },
        "outputId": "2bbb4ec2-e792-405c-f169-e6872fbad287"
      },
      "execution_count": null,
      "outputs": [
        {
          "output_type": "display_data",
          "data": {
            "image/png": "[encoded data removed]",
            "text/plain": [
              "<Figure size 432x288 with 1 Axes>"
            ]
          },
          "metadata": {
            "needs_background": "light"
          }
        },
        {
          "output_type": "stream",
          "name": "stdout",
          "text": [
            "[['uc.325+A']\n",
            " ['uc.466+A']\n",
            " ['uc.346+']\n",
            " ['uc.369+']\n",
            " ['uc.354+A']\n",
            " ['uc.8+']\n",
            " ['uc.283+A']\n",
            " ['uc.153+A']\n",
            " ['uc.217+A']\n",
            " ['uc.145+A']\n",
            " ['uc.362+A']\n",
            " ['uc.160+']\n",
            " ['uc.287+A']\n",
            " ['uc.363+A']\n",
            " ['uc.177+A']\n",
            " ['uc.33+']\n",
            " ['uc.263+A']\n",
            " ['uc.325+']\n",
            " ['uc.462+A']\n",
            " ['uc.229+A']\n",
            " ['uc.404+']\n",
            " ['uc.282+A']\n",
            " ['uc.106+A']\n",
            " ['uc.3+']\n",
            " ['uc.445+A']\n",
            " ['uc.20+']\n",
            " ['uc.473+A']\n",
            " ['uc.16+']\n",
            " ['uc.392+A']\n",
            " ['uc.48+A']\n",
            " ['uc.457+']\n",
            " ['uc.89+']\n",
            " ['uc.268+']\n",
            " ['uc.4+']\n",
            " ['uc.388+A']\n",
            " ['uc.469+A']\n",
            " ['uc.138+']\n",
            " ['uc.477+A']\n",
            " ['uc.288+A']\n",
            " ['uc.468+']\n",
            " ['uc.298+']\n",
            " ['uc.238+']\n",
            " ['uc.163+']\n",
            " ['uc.450+']\n",
            " ['uc.374+A']\n",
            " ['uc.31+']\n",
            " ['uc.372+']\n",
            " ['uc.96+']\n",
            " ['uc.213+A']\n",
            " ['uc.206+A']\n",
            " ['uc.21+A']\n",
            " ['uc.248+A']\n",
            " ['uc.200+']\n",
            " ['uc.34+A']\n",
            " ['uc.189+']\n",
            " ['uc.412+A']\n",
            " ['uc.28+']\n",
            " ['uc.190+A']\n",
            " ['uc.378+A']\n",
            " ['uc.339+']\n",
            " ['uc.44+A']\n",
            " ['uc.234+']\n",
            " ['uc.342+']\n",
            " ['uc.142+A']\n",
            " ['uc.456+A']\n",
            " ['uc.230+']\n",
            " ['uc.195+']\n",
            " ['uc.448+A']\n",
            " ['uc.275+A']\n",
            " ['uc.43+']]\n"
          ]
        }
      ]
    },
    {
      "cell_type": "code",
      "source": [
        "# xgboost for feature importance on a classification problem\n",
        "from sklearn.datasets import make_classification\n",
        "from xgboost import XGBClassifier\n",
        "from matplotlib import pyplot\n",
        "\n",
        "# Define the model\n",
        "model = XGBClassifier(base_score=0.5, booster='gbtree', colsample_bylevel=1,\n",
        "       colsample_bynode=1, colsample_bytree=1, gamma=0, learning_rate=0.1,\n",
        "       max_delta_step=0, max_depth=3, min_child_weight=1, missing=None,\n",
        "       n_estimators=100, n_jobs=1, nthread=None, random_state=0, reg_alpha=0,\n",
        "       reg_lambda=1, scale_pos_weight=1, seed=None, silent=None,\n",
        "       subsample=1, verbosity=1)\n",
        "\n",
        "# Fit the model\n",
        "model.fit(X, y[0,:].T)\n",
        "\n",
        "# Get importance\n",
        "importance = model.feature_importances_\n",
        "\n",
        "# Summarize feature importance\n",
        "\n",
        "feature_importance = abs(model.feature_importances_)\n",
        "feature_importance = 100.0 * (feature_importance / feature_importance.max())\n",
        "sorted_idx = np.argsort(feature_importance)\n",
        "\n",
        "ranked = sorted_idx[::-1][:70]\n",
        "\n",
        "fi = feature_importance[ranked]\n",
        "\n",
        "pyplot.bar([x for x in range(len(fi))], fi)\n",
        "pyplot.show()\n",
        "\n",
        "print(labels[ranked])"
      ],
      "metadata": {
        "id": "lRsl4mSwvxqP",
        "colab": {
          "base_uri": "https://localhost:8080/",
          "height": 1000
        },
        "outputId": "652e4868-ae59-4dc4-e62c-c7ca6ed2be30"
      },
      "execution_count": null,
      "outputs": [
        {
          "output_type": "display_data",
          "data": {
            "image/png": "[encoded data removed]",
            "text/plain": [
              "<Figure size 432x288 with 1 Axes>"
            ]
          },
          "metadata": {
            "needs_background": "light"
          }
        },
        {
          "output_type": "stream",
          "name": "stdout",
          "text": [
            "[['uc.346+']\n",
            " ['uc.354+A']\n",
            " ['uc.369+']\n",
            " ['uc.3+']\n",
            " ['uc.8+']\n",
            " ['uc.325+A']\n",
            " ['uc.362+A']\n",
            " ['uc.298+']\n",
            " ['uc.392+A']\n",
            " ['uc.268+']\n",
            " ['uc.195+']\n",
            " ['uc.238+']\n",
            " ['uc.450+']\n",
            " ['uc.466+A']\n",
            " ['uc.404+']\n",
            " ['uc.213+A']\n",
            " ['uc.163+']\n",
            " ['uc.275+A']\n",
            " ['uc.325+']\n",
            " ['uc.469+A']\n",
            " ['uc.445+A']\n",
            " ['uc.190+A']\n",
            " ['uc.189+']\n",
            " ['uc.142+A']\n",
            " ['uc.229+A']\n",
            " ['uc.43+']\n",
            " ['uc.234+']\n",
            " ['uc.378+A']\n",
            " ['uc.473+A']\n",
            " ['uc.230+']\n",
            " ['uc.374+A']\n",
            " ['uc.4+']\n",
            " ['uc.282+A']\n",
            " ['uc.21+A']\n",
            " ['uc.138+']\n",
            " ['uc.206+A']\n",
            " ['uc.342+']\n",
            " ['uc.462+A']\n",
            " ['uc.106+A']\n",
            " ['uc.28+']\n",
            " ['uc.477+A']\n",
            " ['uc.217+A']\n",
            " ['uc.363+A']\n",
            " ['uc.287+A']\n",
            " ['uc.283+A']\n",
            " ['uc.263+A']\n",
            " ['uc.339+']\n",
            " ['uc.96+']\n",
            " ['uc.200+']\n",
            " ['uc.468+']\n",
            " ['uc.31+']\n",
            " ['uc.288+A']\n",
            " ['uc.456+A']\n",
            " ['uc.448+A']\n",
            " ['uc.48+A']\n",
            " ['uc.44+A']\n",
            " ['uc.160+']\n",
            " ['uc.248+A']\n",
            " ['uc.372+']\n",
            " ['uc.412+A']\n",
            " ['uc.388+A']\n",
            " ['uc.145+A']\n",
            " ['uc.457+']\n",
            " ['uc.89+']\n",
            " ['uc.20+']\n",
            " ['uc.16+']\n",
            " ['uc.177+A']\n",
            " ['uc.153+A']\n",
            " ['uc.33+']\n",
            " ['uc.34+A']]\n"
          ]
        }
      ]
    },
    {
      "cell_type": "code",
      "source": [
        "# Permutation feature importance with knn for classification\n",
        "from sklearn.datasets import make_classification\n",
        "from sklearn.neighbors import KNeighborsClassifier\n",
        "from sklearn.inspection import permutation_importance\n",
        "from matplotlib import pyplot\n",
        "\n",
        "# Define the model\n",
        "model = KNeighborsClassifier()\n",
        "\n",
        "# Fit the model\n",
        "model.fit(X, y[0,:])\n",
        "\n",
        "# Perform permutation importance\n",
        "results = permutation_importance(model, X, y[0,:], scoring='accuracy')\n",
        "\n",
        "# Summarize feature importance\n",
        "feature_importance = abs(results.importances_mean)\n",
        "feature_importance = 100.0 * (feature_importance / feature_importance.max())\n",
        "sorted_idx = np.argsort(feature_importance)\n",
        "\n",
        "ranked = sorted_idx[::-1][:10]\n",
        "\n",
        "fi = feature_importance[ranked]\n",
        "\n",
        "pyplot.bar([x for x in range(len(fi))], fi)\n",
        "pyplot.show()\n",
        "\n",
        "print(labels[ranked])"
      ],
      "metadata": {
        "colab": {
          "base_uri": "https://localhost:8080/",
          "height": 435
        },
        "id": "iQMFCRirv7su",
        "outputId": "11260e12-6c07-48c4-e661-c280d8fe42ba"
      },
      "execution_count": null,
      "outputs": [
        {
          "output_type": "display_data",
          "data": {
            "image/png": "[encoded data removed]",
            "text/plain": [
              "<Figure size 432x288 with 1 Axes>"
            ]
          },
          "metadata": {
            "needs_background": "light"
          }
        },
        {
          "output_type": "stream",
          "name": "stdout",
          "text": [
            "[['uc.8+']\n",
            " ['uc.427+']\n",
            " ['uc.378+A']\n",
            " ['uc.238+']\n",
            " ['uc.142+A']\n",
            " ['uc.190+A']\n",
            " ['uc.445+A']\n",
            " ['uc.469+A']\n",
            " ['uc.325+']\n",
            " ['uc.369+']]\n"
          ]
        }
      ]
    },
    {
      "cell_type": "code",
      "source": [
        "# Evaluation of a model using all features\n",
        "from sklearn.datasets import make_classification\n",
        "from sklearn.model_selection import train_test_split\n",
        "from sklearn.linear_model import LogisticRegression\n",
        "from sklearn.metrics import accuracy_score\n",
        "\n",
        "# Define the dataset\n",
        "X, y = make_classification(n_samples=1000, n_features=10, n_informative=5, n_redundant=5, random_state=1)\n",
        "\n",
        "# Split into train and test sets\n",
        "X_train, X_test, y_train, y_test = train_test_split(X, y, test_size=0.33, random_state=1)\n",
        "\n",
        "# Fit the model\n",
        "model = LogisticRegression(solver='liblinear')\n",
        "model.fit(X_train, y_train)\n",
        "\n",
        "# Evaluate the model\n",
        "yhat = model.predict(X_test)\n",
        "\n",
        "# Evaluate predictions\n",
        "accuracy = accuracy_score(y_test, yhat)\n",
        "print('Accuracy: %.2f' % (accuracy*100))"
      ],
      "metadata": {
        "id": "OCyXLAJAwhif"
      },
      "execution_count": null,
      "outputs": []
    },
    {
      "cell_type": "code",
      "source": [
        "# Configure to select a subset of features\n",
        "fs = SelectFromModel(RandomForestClassifier(n_estimators=200), max_features=5)"
      ],
      "metadata": {
        "id": "Nv_loiFrwk6p"
      },
      "execution_count": null,
      "outputs": []
    },
    {
      "cell_type": "code",
      "source": [
        "# Learn relationship from training data\n",
        "fs.fit(X_train, y_train)\n",
        "\n",
        "# Transform train input data\n",
        "X_train_fs = fs.transform(X_train)\n",
        "\n",
        "# Transform test input data\n",
        "X_test_fs = fs.transform(X_test)"
      ],
      "metadata": {
        "id": "z4-YzFHtwqlG"
      },
      "execution_count": null,
      "outputs": []
    },
    {
      "cell_type": "code",
      "source": [
        "# Evaluation of a model using 5 features chosen with random forest importance\n",
        "from sklearn.datasets import make_classification\n",
        "from sklearn.model_selection import train_test_split\n",
        "from sklearn.feature_selection import SelectFromModel\n",
        "from sklearn.ensemble import RandomForestClassifier\n",
        "from sklearn.linear_model import LogisticRegression\n",
        "from sklearn.metrics import accuracy_score\n",
        "\n",
        "# Feature selection\n",
        "def select_features(X_train, y_train, X_test):\n",
        "\t# Configure to select a subset of features\n",
        "\tfs = SelectFromModel(RandomForestClassifier(n_estimators=1000), max_features=5)\n",
        " \n",
        "\t# Learn relationship from training data\n",
        "\tfs.fit(X_train, y_train)\n",
        "\n",
        "\t# Transform train input data\n",
        "\tX_train_fs = fs.transform(X_train)\n",
        "\n",
        "\t# Transform test input data\n",
        "\tX_test_fs = fs.transform(X_test)\n",
        "\n",
        "\treturn X_train_fs, X_test_fs, fs\n",
        "\n",
        "# Define the dataset\n",
        "X, y = make_classification(n_samples=1000, n_features=10, n_informative=5, n_redundant=5, random_state=1)\n",
        "\n",
        "# Split into train and test sets\n",
        "X_train, X_test, y_train, y_test = train_test_split(X, y, test_size=0.33, random_state=1)\n",
        "\n",
        "# Feature selection\n",
        "X_train_fs, X_test_fs, fs = select_features(X_train, y_train, X_test)\n",
        "\n",
        "# Fit the model\n",
        "model = LogisticRegression(solver='liblinear')\n",
        "model.fit(X_train_fs, y_train)\n",
        "\n",
        "# Evaluate the model\n",
        "yhat = model.predict(X_test_fs)\n",
        "\n",
        "# Evaluate predictions\n",
        "accuracy = accuracy_score(y_test, yhat)\n",
        "\n",
        "print('Accuracy: %.2f' % (accuracy*100))"
      ],
      "metadata": {
        "id": "X7Ior4urwti2"
      },
      "execution_count": null,
      "outputs": []
    }
  ]
}